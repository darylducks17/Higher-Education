{
 "cells": [
  {
   "cell_type": "code",
   "execution_count": 47,
   "metadata": {},
   "outputs": [
    {
     "name": "stdout",
     "output_type": "stream",
     "text": [
      "Populating the interactive namespace from numpy and matplotlib\n"
     ]
    }
   ],
   "source": [
    "##################################################################################################################################################################################################\n",
    "# Libraries needed for the project\n",
    "%pylab inline\n",
    "import pandas as pd\n",
    "from pandas import Series, DataFrame\n",
    "import matplotlib.pyplot as plt\n",
    "import matplotlib.lines as mlines\n",
    "from scipy import stats\n",
    "import statsmodels.api as sm\n",
    "##################################################################################################################################################################################################"
   ]
  },
  {
   "cell_type": "code",
   "execution_count": 55,
   "metadata": {},
   "outputs": [
    {
     "data": {
      "text/html": [
       "<style type=\"text/css\">\n",
       "#T_f3c1d_ caption {\n",
       "  text-align: center;\n",
       "  font-size: 120%;\n",
       "  font-weight: bold;\n",
       "  color: black;\n",
       "}\n",
       "</style>\n",
       "<table id=\"T_f3c1d_\">\n",
       "  <caption>Top 5 Universities in the United Kingdom, United States of America and Australia</caption>\n",
       "  <thead>\n",
       "    <tr>\n",
       "      <th class=\"blank\" >&nbsp;</th>\n",
       "      <th class=\"blank level0\" >&nbsp;</th>\n",
       "      <th class=\"col_heading level0 col0\" >University Name</th>\n",
       "      <th class=\"col_heading level0 col1\" >Total Score</th>\n",
       "    </tr>\n",
       "  </thead>\n",
       "  <tbody>\n",
       "    <tr>\n",
       "      <th id=\"T_f3c1d_level0_row0\" class=\"row_heading level0 row0\" rowspan=\"5\">United Kingdom</th>\n",
       "      <th id=\"T_f3c1d_level1_row0\" class=\"row_heading level1 row0\" >1</th>\n",
       "      <td id=\"T_f3c1d_row0_col0\" class=\"data row0 col0\" >University of Oxford</td>\n",
       "      <td id=\"T_f3c1d_row0_col1\" class=\"data row0 col1\" >94.200000</td>\n",
       "    </tr>\n",
       "    <tr>\n",
       "      <th id=\"T_f3c1d_level1_row1\" class=\"row_heading level1 row1\" >2</th>\n",
       "      <td id=\"T_f3c1d_row1_col0\" class=\"data row1 col0\" >University of Cambridge</td>\n",
       "      <td id=\"T_f3c1d_row1_col1\" class=\"data row1 col1\" >92.800000</td>\n",
       "    </tr>\n",
       "    <tr>\n",
       "      <th id=\"T_f3c1d_level1_row2\" class=\"row_heading level1 row2\" >3</th>\n",
       "      <td id=\"T_f3c1d_row2_col0\" class=\"data row2 col0\" >Imperial College London</td>\n",
       "      <td id=\"T_f3c1d_row2_col1\" class=\"data row2 col1\" >89.100000</td>\n",
       "    </tr>\n",
       "    <tr>\n",
       "      <th id=\"T_f3c1d_level1_row3\" class=\"row_heading level1 row3\" >4</th>\n",
       "      <td id=\"T_f3c1d_row3_col0\" class=\"data row3 col0\" >University College London</td>\n",
       "      <td id=\"T_f3c1d_row3_col1\" class=\"data row3 col1\" >87.100000</td>\n",
       "    </tr>\n",
       "    <tr>\n",
       "      <th id=\"T_f3c1d_level1_row4\" class=\"row_heading level1 row4\" >5</th>\n",
       "      <td id=\"T_f3c1d_row4_col0\" class=\"data row4 col0\" >London School of Economics and Political Science</td>\n",
       "      <td id=\"T_f3c1d_row4_col1\" class=\"data row4 col1\" >81.300000</td>\n",
       "    </tr>\n",
       "    <tr>\n",
       "      <th id=\"T_f3c1d_level0_row5\" class=\"row_heading level0 row5\" rowspan=\"5\">United States of America</th>\n",
       "      <th id=\"T_f3c1d_level1_row5\" class=\"row_heading level1 row5\" >1</th>\n",
       "      <td id=\"T_f3c1d_row5_col0\" class=\"data row5 col0\" >California Institute of Technology</td>\n",
       "      <td id=\"T_f3c1d_row5_col1\" class=\"data row5 col1\" >95.200000</td>\n",
       "    </tr>\n",
       "    <tr>\n",
       "      <th id=\"T_f3c1d_level1_row6\" class=\"row_heading level1 row6\" >2</th>\n",
       "      <td id=\"T_f3c1d_row6_col0\" class=\"data row6 col0\" >Stanford University</td>\n",
       "      <td id=\"T_f3c1d_row6_col1\" class=\"data row6 col1\" >93.900000</td>\n",
       "    </tr>\n",
       "    <tr>\n",
       "      <th id=\"T_f3c1d_level1_row7\" class=\"row_heading level1 row7\" >3</th>\n",
       "      <td id=\"T_f3c1d_row7_col0\" class=\"data row7 col0\" >Massachusetts Institute of Technology</td>\n",
       "      <td id=\"T_f3c1d_row7_col1\" class=\"data row7 col1\" >92.000000</td>\n",
       "    </tr>\n",
       "    <tr>\n",
       "      <th id=\"T_f3c1d_level1_row8\" class=\"row_heading level1 row8\" >4</th>\n",
       "      <td id=\"T_f3c1d_row8_col0\" class=\"data row8 col0\" >Harvard University</td>\n",
       "      <td id=\"T_f3c1d_row8_col1\" class=\"data row8 col1\" >91.600000</td>\n",
       "    </tr>\n",
       "    <tr>\n",
       "      <th id=\"T_f3c1d_level1_row9\" class=\"row_heading level1 row9\" >5</th>\n",
       "      <td id=\"T_f3c1d_row9_col0\" class=\"data row9 col0\" >Princeton University</td>\n",
       "      <td id=\"T_f3c1d_row9_col1\" class=\"data row9 col1\" >90.100000</td>\n",
       "    </tr>\n",
       "    <tr>\n",
       "      <th id=\"T_f3c1d_level0_row10\" class=\"row_heading level0 row10\" rowspan=\"5\">Australia</th>\n",
       "      <th id=\"T_f3c1d_level1_row10\" class=\"row_heading level1 row10\" >1</th>\n",
       "      <td id=\"T_f3c1d_row10_col0\" class=\"data row10 col0\" >University of Melbourne</td>\n",
       "      <td id=\"T_f3c1d_row10_col1\" class=\"data row10 col1\" >75.400000</td>\n",
       "    </tr>\n",
       "    <tr>\n",
       "      <th id=\"T_f3c1d_level1_row11\" class=\"row_heading level1 row11\" >2</th>\n",
       "      <td id=\"T_f3c1d_row11_col0\" class=\"data row11 col0\" >Australian National University</td>\n",
       "      <td id=\"T_f3c1d_row11_col1\" class=\"data row11 col1\" >69.500000</td>\n",
       "    </tr>\n",
       "    <tr>\n",
       "      <th id=\"T_f3c1d_level1_row12\" class=\"row_heading level1 row12\" >3</th>\n",
       "      <td id=\"T_f3c1d_row12_col0\" class=\"data row12 col0\" >University of Sydney</td>\n",
       "      <td id=\"T_f3c1d_row12_col1\" class=\"data row12 col1\" >68.100000</td>\n",
       "    </tr>\n",
       "    <tr>\n",
       "      <th id=\"T_f3c1d_level1_row13\" class=\"row_heading level1 row13\" >4</th>\n",
       "      <td id=\"T_f3c1d_row13_col0\" class=\"data row13 col0\" >The University of Queensland</td>\n",
       "      <td id=\"T_f3c1d_row13_col1\" class=\"data row13 col1\" >67.000000</td>\n",
       "    </tr>\n",
       "    <tr>\n",
       "      <th id=\"T_f3c1d_level1_row14\" class=\"row_heading level1 row14\" >5</th>\n",
       "      <td id=\"T_f3c1d_row14_col0\" class=\"data row14 col0\" >Monash University</td>\n",
       "      <td id=\"T_f3c1d_row14_col1\" class=\"data row14 col1\" >62.500000</td>\n",
       "    </tr>\n",
       "  </tbody>\n",
       "</table>\n"
      ],
      "text/plain": [
       "<pandas.io.formats.style.Styler at 0x2458a85cd60>"
      ]
     },
     "metadata": {},
     "output_type": "display_data"
    }
   ],
   "source": [
    "# CELL 1 \n",
    "# Code to read the given data (i.e., “Times-Higher-Education-World-University-Rankings-Top100.xlsx”) into the program.\n",
    "higher_education_ranking_df = pd.read_excel('Times-Higher-Education-World-University-Rankings-Top100.xlsx', index_col = 0)\n",
    "\n",
    "# Code to create one tabular illustration to show the top 5 universities in the UK (United Kingdom), USA (United States of America) and Australia, respectively. \n",
    "# The following information is required to be included in the illustration: the “National Rank” (i.e., 1, 2, 3, 4, or 5); the “University Name”; and the “Total Score”.\n",
    "'''collects data from the specific columns and turns it in to a dataframe'''\n",
    "ranking = higher_education_ranking_df[['country', 'university_name', 'total_score']]\n",
    "#display(ranking)\n",
    "\n",
    "'''splits the dataframe containing only UK University data from the dataframe above and creates another dataframe'''\n",
    "uk = ranking[higher_education_ranking_df.country.isin(['United Kingdom'])]\n",
    "'''sorts the new dataframe by the total score in descending order where only the first 5 rows are returned and only the first and second column are shown and the index is dropped'''\n",
    "uk_sorted = uk.sort_values(by = ['total_score'], ascending = False).head(n=5).iloc[:, 1:3].reset_index(drop = True)\n",
    "'''starts the index at 1 to show the first top university'''\n",
    "uk_sorted.index = uk_sorted.index + 1\n",
    "'''renaming the columns to ensure they are fit the aesthetic'''\n",
    "uk_sorted.columns = ['University Name', 'Total Score']\n",
    "#display(uk_sorted)\n",
    "\n",
    "'''splits the dataframe containing only USA University data from the dataframe above and creates another dataframe'''\n",
    "usa = ranking[higher_education_ranking_df.country.isin(['United States of America'])]\n",
    "'''sorts the new dataframe by the total score in descending order where only the first 5 rows are returned and only the first and second column are shown and the index is dropped'''\n",
    "usa_sorted = usa.sort_values(by = ['total_score'], ascending = False).head(n=5).iloc[:, 1:3].reset_index(drop = True)\n",
    "'''starts the index at 1 to show the first top university'''\n",
    "usa_sorted.index = usa_sorted.index + 1\n",
    "'''renaming the columns to ensure they are fit the aesthetic'''\n",
    "usa_sorted.columns = ['University Name', 'Total Score']\n",
    "#display(usa_sorted)\n",
    "\n",
    "'''splits the dataframe containing only Australia University data from the dataframe above and creates another dataframe'''\n",
    "aus = ranking[higher_education_ranking_df.country.isin(['Australia'])]\n",
    "'''sorts the new dataframe by the total score in descending order where only the first 5 rows are returned and only the first and second column are shown and the index is dropped'''\n",
    "aus_sorted = aus.sort_values(by = ['total_score'], ascending = False).head(n=5).iloc[:, 1:3].reset_index(drop = True)\n",
    "'''starts the index at 1 to show the first top university'''\n",
    "aus_sorted.index = aus_sorted.index + 1\n",
    "'''renaming the columns to ensure they are fit the aesthetic'''\n",
    "aus_sorted.columns = ['University Name', 'Total Score']\n",
    "#display(aus_sorted)\n",
    "\n",
    "'''puts all sorted dataframes into a list'''\n",
    "frames = [uk_sorted, usa_sorted, aus_sorted]\n",
    "'''concatenates all the dataframes into one big one where all the data will concatenate on the 0th axis and the keys indicate which country the top 5 universities belong to'''\n",
    "result = pd.concat(frames, axis=0, join=\"inner\",  keys=[\"United Kingdom\", \"United States of America\", \"Australia\"])\n",
    "'''changes the style, font and colour of the illustration title'''\n",
    "styles = [dict(selector=\"caption\", props=[(\"text-align\", \"center\"), (\"font-size\", \"120%\"), (\"font-weight\", \"bold\"), (\"color\", \"black\")])]\n",
    "\n",
    "# Displaying the illustration in the program\n",
    "display(result.style.set_table_styles(styles).set_caption('Top 5 Universities in the United Kingdom, United States of America and Australia'))\n"
   ]
  },
  {
   "cell_type": "code",
   "execution_count": 58,
   "metadata": {},
   "outputs": [
    {
     "data": {
      "image/png": "[encoded data removed]",
      "text/plain": [
       "<Figure size 1080x720 with 1 Axes>"
      ]
     },
     "metadata": {
      "needs_background": "light"
     },
     "output_type": "display_data"
    }
   ],
   "source": [
    "# CELL2\n",
    "# Code to analyse the data contained in the variable called “teaching”\n",
    "teaching = higher_education_ranking_df[['country', 'university_name', 'teaching']]\n",
    "#teaching\n",
    "\n",
    "# Code to plot a bar graph (note, plot a single plot) that illustrates the difference between UK, USA and Australia.\n",
    "# The following information is included in the visualisation: the mean measure of “teaching” for universities in each country in question; and the error bars that indicate the 95% confidence interval.\n",
    "'''splits the dataframe containing only UK University 'teaching' data from the dataframe above and creates another dataframe'''\n",
    "uk_teaching_df = teaching[higher_education_ranking_df.country.isin(['United Kingdom'])]\n",
    "'''calculates the mean of the teaching scores of UK Universities'''\n",
    "uk_teaching_mean = uk_teaching_df['teaching'].mean()\n",
    "'''calculates the 95% confidence interval of the teaching scores of UK Universities'''\n",
    "uk_teaching_err =  1.96 * std(uk_teaching_df['teaching']) / sqrt(len(uk_teaching_df['teaching']))\n",
    "\n",
    "'''splits the dataframe containing only USA University 'teaching' data from the dataframe above and creates another dataframe'''\n",
    "usa_teaching_df = teaching[higher_education_ranking_df.country.isin(['United States of America'])]\n",
    "'''calculates the mean of the teaching scores of USA Universities'''\n",
    "usa_teaching_mean = usa_teaching_df['teaching'].mean()\n",
    "'''calculates the 95% confidence interval of the teaching scores of USA Universities'''\n",
    "usa_teaching_err =  1.96 * std(usa_teaching_df['teaching']) / sqrt(len(usa_teaching_df['teaching']))\n",
    "\n",
    "'''splits the dataframe containing only Aussie University 'teaching' data from the dataframe above and creates another dataframe'''\n",
    "aus_teaching_df = teaching[higher_education_ranking_df.country.isin(['Australia'])]\n",
    "'''calculates the mean of the teaching scores of Aussie Universities'''\n",
    "aus_teaching_mean = aus_teaching_df['teaching'].mean()\n",
    "'''calculates the 95% confidence interval of the teaching scores of Aussie Universities'''\n",
    "aus_teaching_err =  1.96 * std(aus_teaching_df['teaching']) / sqrt(len(aus_teaching_df['teaching']))\n",
    "\n",
    "'''code to plot the mean teaching scores of Universities in UK, USA & Australia and the error bars to indicate the 95% confidence interval'''\n",
    "plt.figure(figsize(15,10))\n",
    "plt.bar('United Kingdom', uk_teaching_mean, yerr = uk_teaching_err, capsize = 5, color = 'g')\n",
    "plt.bar('United States of America', usa_teaching_mean, yerr = usa_teaching_err, capsize = 5, color = 'g')\n",
    "plt.bar('Australia', aus_teaching_mean, yerr = aus_teaching_err, capsize = 5, color = 'g')\n",
    "\n",
    "title(\"Mean measure of 'Teaching' of Universities in the United Kingdom, United States of America and Australia\", fontsize = 15)\n",
    "plt.xlabel(\"Countries\", fontsize = 15)\n",
    "plt.ylabel(\"Mean 'Teaching' score of Universities in each country\", fontsize = 15)\n",
    "\n",
    "'''adds a legend/key to show that the black line represents the error bar'''\n",
    "black_line = mlines.Line2D([], [], color = 'black', label = 'error bar indicating the 95% confidence interval ')\n",
    "plt.legend(handles = [black_line])\n",
    "\n",
    "# Display the visualisation in your programme.\n",
    "plt.show()\n"
   ]
  },
  {
   "cell_type": "code",
   "execution_count": null,
   "metadata": {},
   "outputs": [],
   "source": [
    "# CELL3 – 10 marks\n",
    "\n",
    "uk mean = 59.22\n",
    "#uk_teaching_CI = stats.t.interval(alpha=0.95, df=len(uk_teaching_df['teaching'])-1, loc=np.mean(uk_teaching_df['teaching']), scale=stats.sem(uk_teaching_df['teaching']))\n",
    "#print(uk_teaching_CI)\n",
    "\n"
   ]
  },
  {
   "cell_type": "code",
   "execution_count": null,
   "metadata": {},
   "outputs": [],
   "source": [
    "# CELL4 – 10 marks\n",
    "\n",
    "\n"
   ]
  },
  {
   "cell_type": "code",
   "execution_count": null,
   "metadata": {},
   "outputs": [],
   "source": [
    "# CELL5 – 10 marks\n",
    "\n",
    "\n"
   ]
  },
  {
   "cell_type": "code",
   "execution_count": null,
   "metadata": {},
   "outputs": [],
   "source": [
    "# CELL6 – 10 marks\n",
    "\n",
    "\n"
   ]
  },
  {
   "cell_type": "code",
   "execution_count": null,
   "metadata": {},
   "outputs": [],
   "source": [
    "import scipy\n",
    "print(scipy.__version__)"
   ]
  }
 ],
 "metadata": {
  "interpreter": {
   "hash": "766c09e3ce7f7aff282b2846ff28ee4d7d68a9170e31c783d070bd6c788e38ad"
  },
  "kernelspec": {
   "display_name": "Python 3",
   "language": "python",
   "name": "python3"
  },
  "language_info": {
   "codemirror_mode": {
    "name": "ipython",
    "version": 3
   },
   "file_extension": ".py",
   "mimetype": "text/x-python",
   "name": "python",
   "nbconvert_exporter": "python",
   "pygments_lexer": "ipython3",
   "version": "3.9.2"
  },
  "toc-autonumbering": false,
  "toc-showcode": true,
  "toc-showmarkdowntxt": true
 },
 "nbformat": 4,
 "nbformat_minor": 4
}
